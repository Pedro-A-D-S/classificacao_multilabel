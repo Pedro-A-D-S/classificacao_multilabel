{
 "cells": [
  {
   "cell_type": "markdown",
   "metadata": {},
   "source": [
    "Este projeto destina-se a criar um modelo de machine learning capaz de classificar as tags das perguntas do site stackoverflow."
   ]
  },
  {
   "cell_type": "code",
   "execution_count": 1,
   "metadata": {},
   "outputs": [],
   "source": [
    "import pandas as pd"
   ]
  },
  {
   "cell_type": "code",
   "execution_count": 2,
   "metadata": {},
   "outputs": [
    {
     "data": {
      "text/html": [
       "<div>\n",
       "<style scoped>\n",
       "    .dataframe tbody tr th:only-of-type {\n",
       "        vertical-align: middle;\n",
       "    }\n",
       "\n",
       "    .dataframe tbody tr th {\n",
       "        vertical-align: top;\n",
       "    }\n",
       "\n",
       "    .dataframe thead th {\n",
       "        text-align: right;\n",
       "    }\n",
       "</style>\n",
       "<table border=\"1\" class=\"dataframe\">\n",
       "  <thead>\n",
       "    <tr style=\"text-align: right;\">\n",
       "      <th></th>\n",
       "      <th>Perguntas</th>\n",
       "      <th>Tags</th>\n",
       "    </tr>\n",
       "  </thead>\n",
       "  <tbody>\n",
       "    <tr>\n",
       "      <th>0</th>\n",
       "      <td>Possuo um projeto Node.js porém preciso criar ...</td>\n",
       "      <td>node.js</td>\n",
       "    </tr>\n",
       "    <tr>\n",
       "      <th>1</th>\n",
       "      <td>Gostaria de fazer testes unitários no Node.js,...</td>\n",
       "      <td>node.js</td>\n",
       "    </tr>\n",
       "    <tr>\n",
       "      <th>2</th>\n",
       "      <td>Como inverter a ordem com que o jQuery itera u...</td>\n",
       "      <td>jquery</td>\n",
       "    </tr>\n",
       "    <tr>\n",
       "      <th>3</th>\n",
       "      <td>Eu tenho uma página onde pretendo utilizar um ...</td>\n",
       "      <td>html</td>\n",
       "    </tr>\n",
       "    <tr>\n",
       "      <th>4</th>\n",
       "      <td>Como exibir os dados retornados do FireStore e...</td>\n",
       "      <td>html angular</td>\n",
       "    </tr>\n",
       "    <tr>\n",
       "      <th>...</th>\n",
       "      <td>...</td>\n",
       "      <td>...</td>\n",
       "    </tr>\n",
       "    <tr>\n",
       "      <th>5403</th>\n",
       "      <td>Queria saber como pegar o total de cores de um...</td>\n",
       "      <td>jquery html</td>\n",
       "    </tr>\n",
       "    <tr>\n",
       "      <th>5404</th>\n",
       "      <td>Boa noite, estou usando phonegap para fazer um...</td>\n",
       "      <td>html</td>\n",
       "    </tr>\n",
       "    <tr>\n",
       "      <th>5405</th>\n",
       "      <td>Estou construindo um mini fórum, e nele, os us...</td>\n",
       "      <td>jquery html</td>\n",
       "    </tr>\n",
       "    <tr>\n",
       "      <th>5406</th>\n",
       "      <td>Boa tarde,  Estou para desenvolver um site na ...</td>\n",
       "      <td>html</td>\n",
       "    </tr>\n",
       "    <tr>\n",
       "      <th>5407</th>\n",
       "      <td>Estou fazendo um hotsite, ele é one page, e é ...</td>\n",
       "      <td>jquery html</td>\n",
       "    </tr>\n",
       "  </tbody>\n",
       "</table>\n",
       "<p>5408 rows × 2 columns</p>\n",
       "</div>"
      ],
      "text/plain": [
       "                                              Perguntas           Tags\n",
       "0     Possuo um projeto Node.js porém preciso criar ...        node.js\n",
       "1     Gostaria de fazer testes unitários no Node.js,...        node.js\n",
       "2     Como inverter a ordem com que o jQuery itera u...         jquery\n",
       "3     Eu tenho uma página onde pretendo utilizar um ...           html\n",
       "4     Como exibir os dados retornados do FireStore e...  html angular \n",
       "...                                                 ...            ...\n",
       "5403  Queria saber como pegar o total de cores de um...   jquery html \n",
       "5404  Boa noite, estou usando phonegap para fazer um...          html \n",
       "5405  Estou construindo um mini fórum, e nele, os us...    jquery html\n",
       "5406  Boa tarde,  Estou para desenvolver um site na ...           html\n",
       "5407  Estou fazendo um hotsite, ele é one page, e é ...    jquery html\n",
       "\n",
       "[5408 rows x 2 columns]"
      ]
     },
     "execution_count": 2,
     "metadata": {},
     "output_type": "execute_result"
    }
   ],
   "source": [
    "pd.read_csv('https://raw.githubusercontent.com/alura-cursos/alura_classificacao_multilabel/master/dataset/stackoverflow_perguntas.csv')"
   ]
  },
  {
   "cell_type": "code",
   "execution_count": null,
   "metadata": {},
   "outputs": [],
   "source": []
  }
 ],
 "metadata": {
  "kernelspec": {
   "display_name": "Python 3.10.4 64-bit",
   "language": "python",
   "name": "python3"
  },
  "language_info": {
   "codemirror_mode": {
    "name": "ipython",
    "version": 3
   },
   "file_extension": ".py",
   "mimetype": "text/x-python",
   "name": "python",
   "nbconvert_exporter": "python",
   "pygments_lexer": "ipython3",
   "version": "3.10.4"
  },
  "orig_nbformat": 4,
  "vscode": {
   "interpreter": {
    "hash": "c3503f95e0e8f4afdf6702396a7a2a29cae9f67572acfe092405dcaa2579b817"
   }
  }
 },
 "nbformat": 4,
 "nbformat_minor": 2
}
