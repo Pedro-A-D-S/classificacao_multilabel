{
 "cells": [
  {
   "cell_type": "markdown",
   "metadata": {},
   "source": [
    "# Tipos de Classificação"
   ]
  },
  {
   "cell_type": "markdown",
   "metadata": {},
   "source": [
    "Há dois tipos de classificação (de maneira simplificada), binárias e não binárias.\n",
    "\n",
    "Ao ter mais de duas possibilidades, haverão mais que duas labels para identificar cada classe.\n",
    "\n",
    "Classificações não binárias ocorrem em gêneros (sejam filmes, séries ou livros).\n",
    "\n",
    "* Classificação multilabel - Uma instância possui mais de uma label (características).\n",
    "\n",
    "* Classificação multiclasses - Uma instância possui somente uma label, porém há mais de duas classes.\n"
   ]
  },
  {
   "cell_type": "markdown",
   "metadata": {},
   "source": [
    "* Relevância binária: Criará um modelo único para classificar cada coluna."
   ]
  },
  {
   "cell_type": "markdown",
   "metadata": {},
   "source": [
    "# Métricas de avaliação"
   ]
  },
  {
   "cell_type": "markdown",
   "metadata": {},
   "source": [
    "* Acurácia: a métrica acurácia ou exact match refere-se aos acertos de todas as colunas a serem previstas.\n",
    "\n",
    "* Hamming loss: Classifica cada um dos valores e não apenas todas as labels e calcula a distância que a previsão está do real valor."
   ]
  },
  {
   "cell_type": "markdown",
   "metadata": {},
   "source": [
    "# Classificadores"
   ]
  },
  {
   "cell_type": "markdown",
   "metadata": {},
   "source": [
    "* Onevsrest: "
   ]
  },
  {
   "cell_type": "markdown",
   "metadata": {},
   "source": [
    "* Classificação em cadeia: Também criará um modelo para classificar cada label, porém a sua diferença será na criação dos dados de teste. Funciona como se fosse uma recursão pois usa-se as labels anteriores para fazer a classificação das próximas labels."
   ]
  },
  {
   "cell_type": "markdown",
   "metadata": {},
   "source": [
    "* Algoritmos adaptativos: Estes se adaptam para realizar a classificação multilabel e não quebra a classificação em classificadores para cada coluna."
   ]
  },
  {
   "cell_type": "markdown",
   "metadata": {},
   "source": [
    "* ML-KNN: É o K Nearest Neighbors para classificações multilabels, um tipo de algoritmo adaptativo. Calcula-se o KNN normalmente e depois faz-se cálculos para maximizar a certeza dos resultados da classificação."
   ]
  },
  {
   "cell_type": "code",
   "execution_count": null,
   "metadata": {},
   "outputs": [],
   "source": []
  }
 ],
 "metadata": {
  "kernelspec": {
   "display_name": "Python 3.10.4 64-bit",
   "language": "python",
   "name": "python3"
  },
  "language_info": {
   "name": "python",
   "version": "3.10.4"
  },
  "orig_nbformat": 4,
  "vscode": {
   "interpreter": {
    "hash": "c3503f95e0e8f4afdf6702396a7a2a29cae9f67572acfe092405dcaa2579b817"
   }
  }
 },
 "nbformat": 4,
 "nbformat_minor": 2
}
