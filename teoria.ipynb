{
 "cells": [
  {
   "cell_type": "markdown",
   "metadata": {},
   "source": [
    "Há dois tipos de classificação (de maneira simplificada), binárias e não binárias.\n",
    "\n",
    "Ao ter mais de duas possibilidades, haverão mais que duas labels para identificar cada classe.\n",
    "\n",
    "Classificações não binárias ocorrem em gêneros (sejam filmes, séries ou livros).\n",
    "\n",
    "* Classificação multilabel - Uma instância possui mais de uma label (características).\n",
    "\n",
    "* Classificação multiclasses - Uma instância possui somente uma label, porém há mais de duas classes.\n"
   ]
  },
  {
   "cell_type": "code",
   "execution_count": null,
   "metadata": {},
   "outputs": [],
   "source": []
  }
 ],
 "metadata": {
  "language_info": {
   "name": "python"
  },
  "orig_nbformat": 4
 },
 "nbformat": 4,
 "nbformat_minor": 2
}
